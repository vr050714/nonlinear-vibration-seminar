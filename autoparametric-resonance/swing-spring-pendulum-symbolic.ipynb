{
 "cells": [
  {
   "cell_type": "markdown",
   "metadata": {},
   "source": [
    "# Autoparametric resonance"
   ]
  },
  {
   "cell_type": "markdown",
   "metadata": {},
   "source": [
    "<center><img src=\"mass-swing.png\" width=\"15%\" height=\"auto\"/></center>\n",
    "\n",
    "System of equations of motion for the system:\n",
    "\\begin{aligned}\n",
    "\\ddot{R}&=R\\dot{\\theta}^2-\\frac{k}{m}(R-l)+g\\cos\\theta+a\\cos\\Omega t\\\\\n",
    "\\ddot{\\theta}&=-\\frac{2}{R}\\dot{R}\\dot{\\theta}-\\frac{g}{m}\\sin\\theta\n",
    "\\end{aligned}\n",
    "\n",
    "Find stationary point for linearization $\\theta=0$, all derivatives are zero:\n",
    "$$-\\frac{k}{m}(R-l)+g=0\\quad\\implies\\quad R=l+\\frac{mg}{k}$$\n",
    "linearize equations around stable point\n",
    "$$R=R_0+r,\\quad R_0=l+mg/k,\\quad\\theta_0=0$$\n",
    "where $r/R_0\\ll1$ and $\\theta\\ll1$. Scale time to get rid of frequencies $t'=\\omega_1t$ assuming $\\omega_1=2\\omega_2$.\n",
    "\\begin{aligned}\n",
    "\\ddot{r}+\\frac{1}{Q_1}\\dot{r}+r&=l\\dot{\\theta}^2+a\\cos\\Omega t\\\\\n",
    "\\ddot{\\theta}+\\frac{1}{Q_2}\\dot{\\theta}+\\frac{1}{4}\\theta&=-2\\dot{r}\\dot{\\theta}\n",
    "\\end{aligned}\n",
    "\n",
    "Following to the averaging method:\n",
    "\\begin{aligned}\n",
    "r &= u_1\\cos\\Omega t+v_1\\sin\\Omega t\\\\\n",
    "\\theta &= u_2\\cos\\frac{\\Omega}{2}t+v_2\\sin\\frac{\\Omega}{2}t\\\\\n",
    "\\dot{r} &= \\Omega (-u_1\\sin\\Omega t+v_1\\cos\\Omega t)\\\\\n",
    "\\dot{\\theta} &= \\frac{\\Omega}{2} (-u_2\\sin\\frac{\\Omega}{2}t+v_2\\cos\\frac{\\Omega}{2}t)\n",
    "\\end{aligned}\n",
    "with additional constraints\n",
    "\\begin{aligned}\n",
    "\\dot{u}_1\\cos\\Omega t+\\dot{v}_1\\sin\\Omega t &= 0\\\\\n",
    "\\dot{u}_2\\cos\\frac{\\Omega}{2}t+\\dot{v}_2\\sin\\frac{\\Omega}{2}t &= 0\n",
    "\\end{aligned}\n",
    "\n",
    "Introduce detuning parameters\n",
    "$$\\xi_1=1-\\Omega^2,\\quad\\xi_2=1-\\Omega^2/4$$"
   ]
  },
  {
   "cell_type": "code",
   "execution_count": 1,
   "metadata": {},
   "outputs": [],
   "source": [
    "import sympy as sp"
   ]
  },
  {
   "cell_type": "code",
   "execution_count": 2,
   "metadata": {},
   "outputs": [],
   "source": [
    "t, l, a, Q1, Q2 = sp.symbols('t, l, a, Q_1, Q_2')\n",
    "u1, u2, v1, v2 = sp.symbols('u_1, u_2, v_1, v_2')\n",
    "xi1, xi2 = sp.symbols('\\\\xi_1, \\\\xi_2')\n",
    "W = sp.Symbol('\\Omega', positive=True)"
   ]
  },
  {
   "cell_type": "code",
   "execution_count": 3,
   "metadata": {},
   "outputs": [],
   "source": [
    "r  =       u1 * sp.cos(W*t) + v1 * sp.sin(W*t)\n",
    "dr = W * (-u1 * sp.sin(W*t) + v1 * sp.cos(W*t))"
   ]
  },
  {
   "cell_type": "code",
   "execution_count": 4,
   "metadata": {},
   "outputs": [],
   "source": [
    "th  =         u2 * sp.cos(W/2*t) + v2 * sp.sin(W/2*t)\n",
    "dth = W/2 * (-u2 * sp.sin(W/2*t) + v2 * sp.cos(W/2*t))"
   ]
  },
  {
   "cell_type": "code",
   "execution_count": 5,
   "metadata": {},
   "outputs": [],
   "source": [
    "F1 = -dr/Q1/W  - xi1/W * r + l/W * dth**2 + a/W *sp.cos(W*t)\n",
    "F2 = -dth/Q2/W - xi2/W * th - 2/l/(W/2) * dr * dth"
   ]
  },
  {
   "cell_type": "code",
   "execution_count": 6,
   "metadata": {},
   "outputs": [],
   "source": [
    "T = 4*sp.pi/W"
   ]
  },
  {
   "cell_type": "code",
   "execution_count": 7,
   "metadata": {},
   "outputs": [],
   "source": [
    "du1 = (sp.integrate(-sp.sin(W*t)*F1, (t, 0, T))/T).expand()\n",
    "dv1 = (sp.integrate( sp.cos(W*t)*F1, (t, 0, T))/T).expand()"
   ]
  },
  {
   "cell_type": "code",
   "execution_count": 8,
   "metadata": {},
   "outputs": [],
   "source": [
    "du2 = (sp.integrate(-sp.sin(W/2*t)*F2, (t, 0, T))/T).expand()\n",
    "dv2 = (sp.integrate( sp.cos(W/2*t)*F2, (t, 0, T))/T).expand()"
   ]
  },
  {
   "cell_type": "markdown",
   "metadata": {},
   "source": [
    "Get equations for the steady-state solution."
   ]
  },
  {
   "cell_type": "code",
   "execution_count": 9,
   "metadata": {},
   "outputs": [
    {
     "data": {
      "text/latex": [
       "$\\displaystyle \\frac{\\Omega l u_{2} v_{2}}{4} + \\frac{\\xi_{1} v_{1}}{\\Omega} - \\frac{u_{1}}{Q_{1}}$"
      ],
      "text/plain": [
       "\\Omega*l*u_2*v_2/4 + \\xi_1*v_1/\\Omega - u_1/Q_1"
      ]
     },
     "execution_count": 9,
     "metadata": {},
     "output_type": "execute_result"
    }
   ],
   "source": [
    "eq1=du1*2\n",
    "eq1"
   ]
  },
  {
   "cell_type": "code",
   "execution_count": 10,
   "metadata": {},
   "outputs": [
    {
     "data": {
      "text/latex": [
       "$\\displaystyle - \\frac{\\Omega l u_{2}^{2}}{8} + \\frac{\\Omega l v_{2}^{2}}{8} - \\frac{\\xi_{1} u_{1}}{\\Omega} + \\frac{a}{\\Omega} - \\frac{v_{1}}{Q_{1}}$"
      ],
      "text/plain": [
       "-\\Omega*l*u_2**2/8 + \\Omega*l*v_2**2/8 - \\xi_1*u_1/\\Omega + a/\\Omega - v_1/Q_1"
      ]
     },
     "execution_count": 10,
     "metadata": {},
     "output_type": "execute_result"
    }
   ],
   "source": [
    "eq2=dv1*2\n",
    "eq2"
   ]
  },
  {
   "cell_type": "code",
   "execution_count": 11,
   "metadata": {},
   "outputs": [
    {
     "data": {
      "text/latex": [
       "$\\displaystyle - \\frac{\\Omega u_{1} v_{2}}{l} + \\frac{\\Omega u_{2} v_{1}}{l} + \\frac{\\xi_{2} v_{2}}{\\Omega} - \\frac{u_{2}}{2 Q_{2}}$"
      ],
      "text/plain": [
       "-\\Omega*u_1*v_2/l + \\Omega*u_2*v_1/l + \\xi_2*v_2/\\Omega - u_2/(2*Q_2)"
      ]
     },
     "execution_count": 11,
     "metadata": {},
     "output_type": "execute_result"
    }
   ],
   "source": [
    "eq3 = du2*2\n",
    "eq3"
   ]
  },
  {
   "cell_type": "code",
   "execution_count": 12,
   "metadata": {},
   "outputs": [
    {
     "data": {
      "text/latex": [
       "$\\displaystyle - \\frac{\\Omega u_{1} u_{2}}{l} - \\frac{\\Omega v_{1} v_{2}}{l} - \\frac{\\xi_{2} u_{2}}{\\Omega} - \\frac{v_{2}}{2 Q_{2}}$"
      ],
      "text/plain": [
       "-\\Omega*u_1*u_2/l - \\Omega*v_1*v_2/l - \\xi_2*u_2/\\Omega - v_2/(2*Q_2)"
      ]
     },
     "execution_count": 12,
     "metadata": {},
     "output_type": "execute_result"
    }
   ],
   "source": [
    "eq4=dv2*2\n",
    "eq4"
   ]
  },
  {
   "cell_type": "markdown",
   "metadata": {},
   "source": [
    "Replace real $u$, $v$ with complex analogs to easy account for damping\n",
    "$$z_1=u_1+iv_1,\\quad z_2=u_1-iv_1,\\quad z_3=u_2+iv_2,\\quad z_4=u_2-iv_2$$"
   ]
  },
  {
   "cell_type": "code",
   "execution_count": 13,
   "metadata": {},
   "outputs": [],
   "source": [
    "z1, z2, z3, z4=sp.symbols('z_1, z_2, z_3, z_4')"
   ]
  },
  {
   "cell_type": "code",
   "execution_count": 14,
   "metadata": {},
   "outputs": [],
   "source": [
    "sbs=[(u1, z1/2+z2/2), (v1, -sp.I*z1/2+sp.I*z2/2),\n",
    "     (u2, z3/2+z4/2), (v2, -sp.I*z3/2+sp.I*z4/2)]"
   ]
  },
  {
   "cell_type": "code",
   "execution_count": 15,
   "metadata": {},
   "outputs": [],
   "source": [
    "eq5=eq1.subs(sbs).expand()\n",
    "eq6=eq2.subs(sbs).expand()\n",
    "eq7=eq3.subs(sbs).expand()\n",
    "eq8=eq4.subs(sbs).expand()"
   ]
  },
  {
   "cell_type": "code",
   "execution_count": 16,
   "metadata": {},
   "outputs": [],
   "source": [
    "eq9  = (eq5 + sp.I * eq6).expand()\n",
    "eq10 = (eq5 - sp.I * eq6).expand()\n",
    "eq11 = (eq7 + sp.I * eq8).expand()\n",
    "eq12 = (eq7 - sp.I * eq8).expand()"
   ]
  },
  {
   "cell_type": "code",
   "execution_count": 17,
   "metadata": {},
   "outputs": [
    {
     "data": {
      "text/latex": [
       "$\\displaystyle - \\frac{i \\Omega l z_{3}^{2}}{8} - \\frac{i \\xi_{1} z_{1}}{\\Omega} + \\frac{i a}{\\Omega} - \\frac{z_{1}}{Q_{1}}$"
      ],
      "text/plain": [
       "-I*\\Omega*l*z_3**2/8 - I*\\xi_1*z_1/\\Omega + I*a/\\Omega - z_1/Q_1"
      ]
     },
     "execution_count": 17,
     "metadata": {},
     "output_type": "execute_result"
    }
   ],
   "source": [
    "eq9"
   ]
  },
  {
   "cell_type": "code",
   "execution_count": 18,
   "metadata": {},
   "outputs": [
    {
     "data": {
      "text/latex": [
       "$\\displaystyle \\frac{i \\Omega l z_{4}^{2}}{8} + \\frac{i \\xi_{1} z_{2}}{\\Omega} - \\frac{i a}{\\Omega} - \\frac{z_{2}}{Q_{1}}$"
      ],
      "text/plain": [
       "I*\\Omega*l*z_4**2/8 + I*\\xi_1*z_2/\\Omega - I*a/\\Omega - z_2/Q_1"
      ]
     },
     "execution_count": 18,
     "metadata": {},
     "output_type": "execute_result"
    }
   ],
   "source": [
    "eq10"
   ]
  },
  {
   "cell_type": "code",
   "execution_count": 19,
   "metadata": {},
   "outputs": [
    {
     "data": {
      "text/latex": [
       "$\\displaystyle - \\frac{i \\Omega z_{1} z_{4}}{l} - \\frac{i \\xi_{2} z_{3}}{\\Omega} - \\frac{z_{3}}{2 Q_{2}}$"
      ],
      "text/plain": [
       "-I*\\Omega*z_1*z_4/l - I*\\xi_2*z_3/\\Omega - z_3/(2*Q_2)"
      ]
     },
     "execution_count": 19,
     "metadata": {},
     "output_type": "execute_result"
    }
   ],
   "source": [
    "eq11"
   ]
  },
  {
   "cell_type": "code",
   "execution_count": 20,
   "metadata": {},
   "outputs": [
    {
     "data": {
      "text/latex": [
       "$\\displaystyle \\frac{i \\Omega z_{2} z_{3}}{l} + \\frac{i \\xi_{2} z_{4}}{\\Omega} - \\frac{z_{4}}{2 Q_{2}}$"
      ],
      "text/plain": [
       "I*\\Omega*z_2*z_3/l + I*\\xi_2*z_4/\\Omega - z_4/(2*Q_2)"
      ]
     },
     "execution_count": 20,
     "metadata": {},
     "output_type": "execute_result"
    }
   ],
   "source": [
    "eq12"
   ]
  },
  {
   "cell_type": "code",
   "execution_count": 21,
   "metadata": {},
   "outputs": [],
   "source": [
    "sol1 = sp.solve((eq9,eq10),[z1,z2])\n",
    "Z1 = sol1[z1].expand()\n",
    "Z2 = sol1[z2].expand()"
   ]
  },
  {
   "cell_type": "code",
   "execution_count": 22,
   "metadata": {},
   "outputs": [
    {
     "data": {
      "text/latex": [
       "$\\displaystyle - \\frac{Q_{1} \\Omega^{2} l z_{3}^{2}}{8 Q_{1} \\xi_{1} - 8 i \\Omega} + \\frac{8 Q_{1} a}{8 Q_{1} \\xi_{1} - 8 i \\Omega}$"
      ],
      "text/plain": [
       "-Q_1*\\Omega**2*l*z_3**2/(8*Q_1*\\xi_1 - 8*I*\\Omega) + 8*Q_1*a/(8*Q_1*\\xi_1 - 8*I*\\Omega)"
      ]
     },
     "execution_count": 22,
     "metadata": {},
     "output_type": "execute_result"
    }
   ],
   "source": [
    "Z1"
   ]
  },
  {
   "cell_type": "code",
   "execution_count": 23,
   "metadata": {},
   "outputs": [
    {
     "data": {
      "text/latex": [
       "$\\displaystyle - \\frac{Q_{1} \\Omega^{2} l z_{4}^{2}}{8 Q_{1} \\xi_{1} + 8 i \\Omega} + \\frac{8 Q_{1} a}{8 Q_{1} \\xi_{1} + 8 i \\Omega}$"
      ],
      "text/plain": [
       "-Q_1*\\Omega**2*l*z_4**2/(8*Q_1*\\xi_1 + 8*I*\\Omega) + 8*Q_1*a/(8*Q_1*\\xi_1 + 8*I*\\Omega)"
      ]
     },
     "execution_count": 23,
     "metadata": {},
     "output_type": "execute_result"
    }
   ],
   "source": [
    "Z2"
   ]
  },
  {
   "cell_type": "markdown",
   "metadata": {},
   "source": [
    "Substitute them into the second couple of equations"
   ]
  },
  {
   "cell_type": "code",
   "execution_count": 24,
   "metadata": {},
   "outputs": [
    {
     "data": {
      "text/latex": [
       "$\\displaystyle \\frac{i Q_{1} \\Omega^{3} z_{3}^{2} z_{4}}{8 Q_{1} \\xi_{1} - 8 i \\Omega} - \\frac{8 i Q_{1} \\Omega a z_{4}}{8 Q_{1} \\xi_{1} l - 8 i \\Omega l} - \\frac{i \\xi_{2} z_{3}}{\\Omega} - \\frac{z_{3}}{2 Q_{2}}$"
      ],
      "text/plain": [
       "I*Q_1*\\Omega**3*z_3**2*z_4/(8*Q_1*\\xi_1 - 8*I*\\Omega) - 8*I*Q_1*\\Omega*a*z_4/(8*Q_1*\\xi_1*l - 8*I*\\Omega*l) - I*\\xi_2*z_3/\\Omega - z_3/(2*Q_2)"
      ]
     },
     "execution_count": 24,
     "metadata": {},
     "output_type": "execute_result"
    }
   ],
   "source": [
    "eq13 = eq11.subs([(z1,Z1),(z2,Z2)]).expand()\n",
    "eq13"
   ]
  },
  {
   "cell_type": "code",
   "execution_count": 25,
   "metadata": {},
   "outputs": [
    {
     "data": {
      "text/latex": [
       "$\\displaystyle - \\frac{i Q_{1} \\Omega^{3} z_{3} z_{4}^{2}}{8 Q_{1} \\xi_{1} + 8 i \\Omega} + \\frac{8 i Q_{1} \\Omega a z_{3}}{8 Q_{1} \\xi_{1} l + 8 i \\Omega l} + \\frac{i \\xi_{2} z_{4}}{\\Omega} - \\frac{z_{4}}{2 Q_{2}}$"
      ],
      "text/plain": [
       "-I*Q_1*\\Omega**3*z_3*z_4**2/(8*Q_1*\\xi_1 + 8*I*\\Omega) + 8*I*Q_1*\\Omega*a*z_3/(8*Q_1*\\xi_1*l + 8*I*\\Omega*l) + I*\\xi_2*z_4/\\Omega - z_4/(2*Q_2)"
      ]
     },
     "execution_count": 25,
     "metadata": {},
     "output_type": "execute_result"
    }
   ],
   "source": [
    "eq14 = eq12.subs([(z1,Z1),(z2,Z2)]).expand()\n",
    "eq14"
   ]
  },
  {
   "cell_type": "markdown",
   "metadata": {},
   "source": [
    "Let the amplitudes of modes are\n",
    "$$A_1^2 = z_1z_2 = u_1^2+v_1^2,\\quad A_2^2 = z_3z_4 = u_2^2+v_2^2$$\n",
    "The trivial solution to the system is $z_3=z_4=0$, $A_2=0$ and\n",
    "\\begin{equation}\n",
    "z_{1,2}=\\frac{a}{\\pm\\xi_1-\\Omega/{iQ_1}},\\quad A_1=\\frac{a}{\\sqrt{(1-\\Omega^2)^2+\\Omega^2/Q_1^2}}\n",
    "\\end{equation}"
   ]
  },
  {
   "cell_type": "markdown",
   "metadata": {},
   "source": [
    "The system has nontrivial value"
   ]
  },
  {
   "cell_type": "code",
   "execution_count": 26,
   "metadata": {},
   "outputs": [],
   "source": [
    "A1, A2 = sp.symbols('A1, A2')"
   ]
  },
  {
   "cell_type": "code",
   "execution_count": 27,
   "metadata": {},
   "outputs": [],
   "source": [
    "eq15 = Q1*W**3*z3*A2**2/(-8*sp.I*Q1*xi1 - 8*W) - 8*Q1*W*a*z4/(-8*sp.I*Q1*xi1*l - 8*W*l) - sp.I*xi2*z3/W - z3/(2*Q2)\n",
    "eq16 = Q1*W**3*z4*A2**2/(8*sp.I*Q1*xi1 - 8*W) - 8*Q1*W*a*z3/(8*sp.I*Q1*xi1*l - 8*W*l) + sp.I*xi2*z4/W - z4/(2*Q2)"
   ]
  },
  {
   "cell_type": "code",
   "execution_count": 28,
   "metadata": {},
   "outputs": [],
   "source": [
    "eq17 = eq15.collect([z3,z4])\n",
    "eq18 = eq16.collect([z3,z4])"
   ]
  },
  {
   "cell_type": "markdown",
   "metadata": {},
   "source": [
    "The linear system of two equations for $z_3$ and $z_4$ has a nontrivial solution when determinant is zero what yields $A_2^2$ value. Since A_2 is amplitude, nontrivial solution will be stable when $A_2$ has a real positive value, otherwise the solution is trivial."
   ]
  },
  {
   "cell_type": "code",
   "execution_count": 29,
   "metadata": {},
   "outputs": [
    {
     "data": {
      "text/latex": [
       "$\\displaystyle - \\frac{8 Q_{1} \\Omega a z_{4}}{- 8 i Q_{1} \\xi_{1} l - 8 \\Omega l} + z_{3} \\left(\\frac{A_{2}^{2} Q_{1} \\Omega^{3}}{- 8 i Q_{1} \\xi_{1} - 8 \\Omega} - \\frac{i \\xi_{2}}{\\Omega} - \\frac{1}{2 Q_{2}}\\right)$"
      ],
      "text/plain": [
       "-8*Q_1*\\Omega*a*z_4/(-8*I*Q_1*\\xi_1*l - 8*\\Omega*l) + z_3*(A2**2*Q_1*\\Omega**3/(-8*I*Q_1*\\xi_1 - 8*\\Omega) - I*\\xi_2/\\Omega - 1/(2*Q_2))"
      ]
     },
     "execution_count": 29,
     "metadata": {},
     "output_type": "execute_result"
    }
   ],
   "source": [
    "eq17"
   ]
  },
  {
   "cell_type": "code",
   "execution_count": 30,
   "metadata": {},
   "outputs": [
    {
     "data": {
      "text/latex": [
       "$\\displaystyle - \\frac{8 Q_{1} \\Omega a z_{3}}{8 i Q_{1} \\xi_{1} l - 8 \\Omega l} + z_{4} \\left(\\frac{A_{2}^{2} Q_{1} \\Omega^{3}}{8 i Q_{1} \\xi_{1} - 8 \\Omega} + \\frac{i \\xi_{2}}{\\Omega} - \\frac{1}{2 Q_{2}}\\right)$"
      ],
      "text/plain": [
       "-8*Q_1*\\Omega*a*z_3/(8*I*Q_1*\\xi_1*l - 8*\\Omega*l) + z_4*(A2**2*Q_1*\\Omega**3/(8*I*Q_1*\\xi_1 - 8*\\Omega) + I*\\xi_2/\\Omega - 1/(2*Q_2))"
      ]
     },
     "execution_count": 30,
     "metadata": {},
     "output_type": "execute_result"
    }
   ],
   "source": [
    "eq18"
   ]
  },
  {
   "cell_type": "code",
   "execution_count": null,
   "metadata": {},
   "outputs": [],
   "source": []
  }
 ],
 "metadata": {
  "kernelspec": {
   "display_name": "Python 3 (ipykernel)",
   "language": "python",
   "name": "python3"
  },
  "language_info": {
   "codemirror_mode": {
    "name": "ipython",
    "version": 3
   },
   "file_extension": ".py",
   "mimetype": "text/x-python",
   "name": "python",
   "nbconvert_exporter": "python",
   "pygments_lexer": "ipython3",
   "version": "3.11.3"
  },
  "metadata": {
   "interpreter": {
    "hash": "2e93019ca0762ffa4279580cdf9f0fc58a64d917ffb443a2beff04dfeebb84d9"
   }
  }
 },
 "nbformat": 4,
 "nbformat_minor": 4
}
