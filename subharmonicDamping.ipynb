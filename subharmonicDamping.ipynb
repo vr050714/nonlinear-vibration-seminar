{
 "metadata": {
  "language_info": {
   "codemirror_mode": {
    "name": "ipython",
    "version": 3
   },
   "file_extension": ".py",
   "mimetype": "text/x-python",
   "name": "python",
   "nbconvert_exporter": "python",
   "pygments_lexer": "ipython3",
   "version": "3.9.5"
  },
  "orig_nbformat": 2,
  "kernelspec": {
   "name": "pythonjvsc74a57bd02e93019ca0762ffa4279580cdf9f0fc58a64d917ffb443a2beff04dfeebb84d9",
   "display_name": "Python 3.9.5  ('venv': venv)"
  },
  "metadata": {
   "interpreter": {
    "hash": "2e93019ca0762ffa4279580cdf9f0fc58a64d917ffb443a2beff04dfeebb84d9"
   }
  }
 },
 "nbformat": 4,
 "nbformat_minor": 2,
 "cells": [
  {
   "cell_type": "code",
   "execution_count": 1,
   "metadata": {},
   "outputs": [],
   "source": [
    "import sympy as sp"
   ]
  },
  {
   "cell_type": "code",
   "execution_count": 2,
   "metadata": {},
   "outputs": [],
   "source": [
    "t, l, a, Q1, Q2 = sp.symbols('t, l, a, Q_1, Q_2')\n",
    "u1, u2, v1, v2 = sp.symbols('u_1, u_2, v_1, v_2')\n",
    "xi1, xi2 = sp.symbols('\\\\xi_1, \\\\xi_2')\n",
    "W = sp.Symbol('\\Omega', positive=True)"
   ]
  },
  {
   "cell_type": "code",
   "execution_count": 3,
   "metadata": {},
   "outputs": [],
   "source": [
    "r  =       u1 * sp.cos(W*t) + v1 * sp.sin(W*t)\n",
    "dr = W * (-u1 * sp.sin(W*t) + v1 * sp.cos(W*t))"
   ]
  },
  {
   "cell_type": "code",
   "execution_count": 4,
   "metadata": {},
   "outputs": [],
   "source": [
    "th  =         u2 * sp.cos(W/2*t) + v2 * sp.sin(W/2*t)\n",
    "dth = W/2 * (-u2 * sp.sin(W/2*t) + v2 * sp.cos(W/2*t))"
   ]
  },
  {
   "source": [
    "$R=R_0+r,\\quad R_0=l+mg/k$"
   ],
   "cell_type": "markdown",
   "metadata": {}
  },
  {
   "source": [
    "\\begin{aligned}\n",
    "\\ddot{r}+\\frac{1}{Q_1}\\dot{r}+r&=l\\dot{\\theta}^2+a\\cos\\Omega t\\\\\n",
    "\\ddot{\\theta}+\\frac{1}{Q_2}\\dot{\\theta}+\\theta&=-2\\dot{r}\\dot{\\theta}\n",
    "\\end{aligned}"
   ],
   "cell_type": "markdown",
   "metadata": {}
  },
  {
   "source": [
    "$$\\xi_1=1-\\Omega^2,\\quad\\xi_2=1-\\Omega^2/4$$"
   ],
   "cell_type": "markdown",
   "metadata": {}
  },
  {
   "cell_type": "code",
   "execution_count": 5,
   "metadata": {},
   "outputs": [],
   "source": [
    "F1 = -dr/Q1/W  - xi1/W * r + l/W * dth**2 + a/W *sp.cos(W*t)\n",
    "F2 = -dth/Q2/W - xi2/W * th - 2/l/(W/2) * dr * dth"
   ]
  },
  {
   "cell_type": "code",
   "execution_count": 6,
   "metadata": {},
   "outputs": [],
   "source": [
    "T = 4*sp.pi/W"
   ]
  },
  {
   "cell_type": "code",
   "execution_count": 7,
   "metadata": {},
   "outputs": [],
   "source": [
    "du1 = (sp.integrate(-sp.sin(W*t)*F1, (t, 0, T))/T).expand()\n",
    "dv1 = (sp.integrate( sp.cos(W*t)*F1, (t, 0, T))/T).expand()"
   ]
  },
  {
   "cell_type": "code",
   "execution_count": 8,
   "metadata": {},
   "outputs": [],
   "source": [
    "du2 = (sp.integrate(-sp.sin(W/2*t)*F2, (t, 0, T))/T).expand()\n",
    "dv2 = (sp.integrate( sp.cos(W/2*t)*F2, (t, 0, T))/T).expand()"
   ]
  },
  {
   "source": [
    "Get equations for the steady-state solution."
   ],
   "cell_type": "markdown",
   "metadata": {}
  },
  {
   "cell_type": "code",
   "execution_count": 13,
   "metadata": {},
   "outputs": [
    {
     "output_type": "execute_result",
     "data": {
      "text/plain": [
       "\\Omega*l*u_2*v_2/4 + \\xi_1*v_1/\\Omega - u_1/Q_1"
      ],
      "text/latex": "$\\displaystyle \\frac{\\Omega l u_{2} v_{2}}{4} + \\frac{\\xi_{1} v_{1}}{\\Omega} - \\frac{u_{1}}{Q_{1}}$"
     },
     "metadata": {},
     "execution_count": 13
    }
   ],
   "source": [
    "eq1=du1*2\n",
    "eq1"
   ]
  },
  {
   "cell_type": "code",
   "execution_count": 14,
   "metadata": {},
   "outputs": [
    {
     "output_type": "execute_result",
     "data": {
      "text/plain": [
       "-\\Omega*l*u_2**2/8 + \\Omega*l*v_2**2/8 - \\xi_1*u_1/\\Omega + a/\\Omega - v_1/Q_1"
      ],
      "text/latex": "$\\displaystyle - \\frac{\\Omega l u_{2}^{2}}{8} + \\frac{\\Omega l v_{2}^{2}}{8} - \\frac{\\xi_{1} u_{1}}{\\Omega} + \\frac{a}{\\Omega} - \\frac{v_{1}}{Q_{1}}$"
     },
     "metadata": {},
     "execution_count": 14
    }
   ],
   "source": [
    "eq2=dv1*2\n",
    "eq2"
   ]
  },
  {
   "cell_type": "code",
   "execution_count": 25,
   "metadata": {},
   "outputs": [
    {
     "output_type": "execute_result",
     "data": {
      "text/plain": [
       "-\\Omega*u_1*v_2/l + \\Omega*u_2*v_1/l + \\xi_2*v_2/\\Omega - u_2/(2*Q_2)"
      ],
      "text/latex": "$\\displaystyle - \\frac{\\Omega u_{1} v_{2}}{l} + \\frac{\\Omega u_{2} v_{1}}{l} + \\frac{\\xi_{2} v_{2}}{\\Omega} - \\frac{u_{2}}{2 Q_{2}}$"
     },
     "metadata": {},
     "execution_count": 25
    }
   ],
   "source": [
    "eq3 = du2*2\n",
    "eq3"
   ]
  },
  {
   "cell_type": "code",
   "execution_count": 31,
   "metadata": {},
   "outputs": [
    {
     "output_type": "execute_result",
     "data": {
      "text/plain": [
       "-\\Omega*u_1*u_2/l - \\Omega*v_1*v_2/l - \\xi_2*u_2/\\Omega - v_2/(2*Q_2)"
      ],
      "text/latex": "$\\displaystyle - \\frac{\\Omega u_{1} u_{2}}{l} - \\frac{\\Omega v_{1} v_{2}}{l} - \\frac{\\xi_{2} u_{2}}{\\Omega} - \\frac{v_{2}}{2 Q_{2}}$"
     },
     "metadata": {},
     "execution_count": 31
    }
   ],
   "source": [
    "eq4=dv2*2\n",
    "eq4"
   ]
  },
  {
   "source": [
    "First couple of equations yields expressions for $u_1$ and $v_1$"
   ],
   "cell_type": "markdown",
   "metadata": {}
  },
  {
   "cell_type": "code",
   "execution_count": 16,
   "metadata": {},
   "outputs": [],
   "source": [
    "sol1 = sp.solve((eq1,eq2),[u1,v1])"
   ]
  },
  {
   "cell_type": "code",
   "execution_count": 21,
   "metadata": {},
   "outputs": [],
   "source": [
    "U1 = sol1[u1].expand()\n",
    "V1 = sol1[v1].expand()"
   ]
  },
  {
   "cell_type": "code",
   "execution_count": 30,
   "metadata": {},
   "outputs": [
    {
     "output_type": "execute_result",
     "data": {
      "text/plain": [
       "-Q_1**2*\\Omega**2*\\xi_1*l*u_2**2/(8*Q_1**2*\\xi_1**2 + 8*\\Omega**2) + Q_1**2*\\Omega**2*\\xi_1*l*v_2**2/(8*Q_1**2*\\xi_1**2 + 8*\\Omega**2) + 8*Q_1**2*\\xi_1*a/(8*Q_1**2*\\xi_1**2 + 8*\\Omega**2) + 2*Q_1*\\Omega**3*l*u_2*v_2/(8*Q_1**2*\\xi_1**2 + 8*\\Omega**2)"
      ],
      "text/latex": "$\\displaystyle - \\frac{Q_{1}^{2} \\Omega^{2} \\xi_{1} l u_{2}^{2}}{8 Q_{1}^{2} \\xi_{1}^{2} + 8 \\Omega^{2}} + \\frac{Q_{1}^{2} \\Omega^{2} \\xi_{1} l v_{2}^{2}}{8 Q_{1}^{2} \\xi_{1}^{2} + 8 \\Omega^{2}} + \\frac{8 Q_{1}^{2} \\xi_{1} a}{8 Q_{1}^{2} \\xi_{1}^{2} + 8 \\Omega^{2}} + \\frac{2 Q_{1} \\Omega^{3} l u_{2} v_{2}}{8 Q_{1}^{2} \\xi_{1}^{2} + 8 \\Omega^{2}}$"
     },
     "metadata": {},
     "execution_count": 30
    }
   ],
   "source": [
    "U1"
   ]
  },
  {
   "cell_type": "code",
   "execution_count": 34,
   "metadata": {},
   "outputs": [
    {
     "output_type": "execute_result",
     "data": {
      "text/plain": [
       "-Q_1**2*\\Omega**3*\\xi_1*u_2**2*v_2/(8*Q_1**2*\\xi_1**2 + 8*\\Omega**2) - Q_1**2*\\Omega**3*\\xi_1*v_2**3/(8*Q_1**2*\\xi_1**2 + 8*\\Omega**2) - 8*Q_1**2*\\Omega*\\xi_1*a*v_2/(8*Q_1**2*\\xi_1**2*l + 8*\\Omega**2*l) - Q_1*\\Omega**4*u_2**3/(8*Q_1**2*\\xi_1**2 + 8*\\Omega**2) - Q_1*\\Omega**4*u_2*v_2**2/(8*Q_1**2*\\xi_1**2 + 8*\\Omega**2) + 8*Q_1*\\Omega**2*a*u_2/(8*Q_1**2*\\xi_1**2*l + 8*\\Omega**2*l) + \\xi_2*v_2/\\Omega - u_2/(2*Q_2)"
      ],
      "text/latex": "$\\displaystyle - \\frac{Q_{1}^{2} \\Omega^{3} \\xi_{1} u_{2}^{2} v_{2}}{8 Q_{1}^{2} \\xi_{1}^{2} + 8 \\Omega^{2}} - \\frac{Q_{1}^{2} \\Omega^{3} \\xi_{1} v_{2}^{3}}{8 Q_{1}^{2} \\xi_{1}^{2} + 8 \\Omega^{2}} - \\frac{8 Q_{1}^{2} \\Omega \\xi_{1} a v_{2}}{8 Q_{1}^{2} \\xi_{1}^{2} l + 8 \\Omega^{2} l} - \\frac{Q_{1} \\Omega^{4} u_{2}^{3}}{8 Q_{1}^{2} \\xi_{1}^{2} + 8 \\Omega^{2}} - \\frac{Q_{1} \\Omega^{4} u_{2} v_{2}^{2}}{8 Q_{1}^{2} \\xi_{1}^{2} + 8 \\Omega^{2}} + \\frac{8 Q_{1} \\Omega^{2} a u_{2}}{8 Q_{1}^{2} \\xi_{1}^{2} l + 8 \\Omega^{2} l} + \\frac{\\xi_{2} v_{2}}{\\Omega} - \\frac{u_{2}}{2 Q_{2}}$"
     },
     "metadata": {},
     "execution_count": 34
    }
   ],
   "source": [
    "eq5=eq3.subs([(u1,U1),(v1,V1)]).expand()\n",
    "eq5"
   ]
  },
  {
   "cell_type": "code",
   "execution_count": 33,
   "metadata": {},
   "outputs": [
    {
     "output_type": "execute_result",
     "data": {
      "text/plain": [
       "Q_1**2*\\Omega**3*\\xi_1*u_2**3/(8*Q_1**2*\\xi_1**2 + 8*\\Omega**2) + Q_1**2*\\Omega**3*\\xi_1*u_2*v_2**2/(8*Q_1**2*\\xi_1**2 + 8*\\Omega**2) - 8*Q_1**2*\\Omega*\\xi_1*a*u_2/(8*Q_1**2*\\xi_1**2*l + 8*\\Omega**2*l) - Q_1*\\Omega**4*u_2**2*v_2/(8*Q_1**2*\\xi_1**2 + 8*\\Omega**2) - Q_1*\\Omega**4*v_2**3/(8*Q_1**2*\\xi_1**2 + 8*\\Omega**2) - 8*Q_1*\\Omega**2*a*v_2/(8*Q_1**2*\\xi_1**2*l + 8*\\Omega**2*l) - \\xi_2*u_2/\\Omega - v_2/(2*Q_2)"
      ],
      "text/latex": "$\\displaystyle \\frac{Q_{1}^{2} \\Omega^{3} \\xi_{1} u_{2}^{3}}{8 Q_{1}^{2} \\xi_{1}^{2} + 8 \\Omega^{2}} + \\frac{Q_{1}^{2} \\Omega^{3} \\xi_{1} u_{2} v_{2}^{2}}{8 Q_{1}^{2} \\xi_{1}^{2} + 8 \\Omega^{2}} - \\frac{8 Q_{1}^{2} \\Omega \\xi_{1} a u_{2}}{8 Q_{1}^{2} \\xi_{1}^{2} l + 8 \\Omega^{2} l} - \\frac{Q_{1} \\Omega^{4} u_{2}^{2} v_{2}}{8 Q_{1}^{2} \\xi_{1}^{2} + 8 \\Omega^{2}} - \\frac{Q_{1} \\Omega^{4} v_{2}^{3}}{8 Q_{1}^{2} \\xi_{1}^{2} + 8 \\Omega^{2}} - \\frac{8 Q_{1} \\Omega^{2} a v_{2}}{8 Q_{1}^{2} \\xi_{1}^{2} l + 8 \\Omega^{2} l} - \\frac{\\xi_{2} u_{2}}{\\Omega} - \\frac{v_{2}}{2 Q_{2}}$"
     },
     "metadata": {},
     "execution_count": 33
    }
   ],
   "source": [
    "eq6=eq4.subs([(u1,U1),(v1,V1)]).expand()\n",
    "eq6"
   ]
  },
  {
   "cell_type": "code",
   "execution_count": null,
   "metadata": {},
   "outputs": [],
   "source": []
  }
 ]
}