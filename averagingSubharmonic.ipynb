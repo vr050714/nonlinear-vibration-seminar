{
 "metadata": {
  "language_info": {
   "codemirror_mode": {
    "name": "ipython",
    "version": 3
   },
   "file_extension": ".py",
   "mimetype": "text/x-python",
   "name": "python",
   "nbconvert_exporter": "python",
   "pygments_lexer": "ipython3",
   "version": "3.9.4"
  },
  "orig_nbformat": 2,
  "kernelspec": {
   "name": "pythonjvsc74a57bd0029e6aad1ff8cb3d45bc1be2fd738f58b8646c513dd680732ee28823f0a05190",
   "display_name": "Python 3.9.4  ('venv': venv)"
  },
  "metadata": {
   "interpreter": {
    "hash": "029e6aad1ff8cb3d45bc1be2fd738f58b8646c513dd680732ee28823f0a05190"
   }
  }
 },
 "nbformat": 4,
 "nbformat_minor": 2,
 "cells": [
  {
   "cell_type": "code",
   "execution_count": 1,
   "metadata": {},
   "outputs": [],
   "source": [
    "import sympy as sp"
   ]
  },
  {
   "cell_type": "code",
   "execution_count": 2,
   "metadata": {},
   "outputs": [],
   "source": [
    "t, l, a = sp.symbols('t, l, a')\n",
    "u1, u2, v1, v2 = sp.symbols('u_1, u_2, v_1, v_2')\n",
    "xi1, xi2 = sp.symbols('\\\\xi_1, \\\\xi_2')\n",
    "W = sp.Symbol('\\Omega', positive=True)"
   ]
  },
  {
   "cell_type": "code",
   "execution_count": 3,
   "metadata": {},
   "outputs": [],
   "source": [
    "r  =       u1 * sp.cos(W*t) + v1 * sp.sin(W*t)\n",
    "dr = W * (-u1 * sp.sin(W*t) + v1 * sp.cos(W*t))"
   ]
  },
  {
   "cell_type": "code",
   "execution_count": 4,
   "metadata": {},
   "outputs": [],
   "source": [
    "th  =         u2 * sp.cos(W/2*t) + v2 * sp.sin(W/2*t)\n",
    "dth = W/2 * (-u2 * sp.sin(W/2*t) + v2 * sp.cos(W/2*t))"
   ]
  },
  {
   "cell_type": "code",
   "execution_count": 5,
   "metadata": {},
   "outputs": [],
   "source": [
    "# xi1 = (w1**2 - W**2  ) /  W\n",
    "# xi2 = (w2**2 - W**2/4) / (W/2)"
   ]
  },
  {
   "cell_type": "code",
   "execution_count": 6,
   "metadata": {},
   "outputs": [],
   "source": [
    "F1 = -xi1 * r + l/W * dth**2 + a/W *sp.cos(W*t)\n",
    "F2 = -xi2 * th - 2/l/(W/2) * dr * dth"
   ]
  },
  {
   "cell_type": "code",
   "execution_count": 7,
   "metadata": {},
   "outputs": [],
   "source": [
    "T = 4*sp.pi/W"
   ]
  },
  {
   "cell_type": "code",
   "execution_count": 8,
   "metadata": {},
   "outputs": [],
   "source": [
    "du1 = (sp.integrate(-sp.sin(W*t)*F1, (t, 0, T))/T).expand()\n",
    "dv1 = (sp.integrate( sp.cos(W*t)*F1, (t, 0, T))/T).expand()"
   ]
  },
  {
   "cell_type": "code",
   "execution_count": 9,
   "metadata": {},
   "outputs": [],
   "source": [
    "du2 = (sp.integrate(-sp.sin(W/2*t)*F2, (t, 0, T))/T).expand()\n",
    "dv2 = (sp.integrate( sp.cos(W/2*t)*F2, (t, 0, T))/T).expand()"
   ]
  },
  {
   "source": [
    "Get equations for the steady-state solution."
   ],
   "cell_type": "markdown",
   "metadata": {}
  },
  {
   "cell_type": "code",
   "execution_count": 10,
   "metadata": {},
   "outputs": [
    {
     "output_type": "execute_result",
     "data": {
      "text/plain": [
       "\\Omega*l*u_2*v_2/4 + \\xi_1*v_1"
      ],
      "text/latex": "$\\displaystyle \\frac{\\Omega l u_{2} v_{2}}{4} + \\xi_{1} v_{1}$"
     },
     "metadata": {},
     "execution_count": 10
    }
   ],
   "source": [
    "du1*2"
   ]
  },
  {
   "cell_type": "code",
   "execution_count": 11,
   "metadata": {},
   "outputs": [
    {
     "output_type": "execute_result",
     "data": {
      "text/plain": [
       "-\\Omega*l*u_2**2/8 + \\Omega*l*v_2**2/8 - \\xi_1*u_1 + a/\\Omega"
      ],
      "text/latex": "$\\displaystyle - \\frac{\\Omega l u_{2}^{2}}{8} + \\frac{\\Omega l v_{2}^{2}}{8} - \\xi_{1} u_{1} + \\frac{a}{\\Omega}$"
     },
     "metadata": {},
     "execution_count": 11
    }
   ],
   "source": [
    "dv1*2"
   ]
  },
  {
   "cell_type": "code",
   "execution_count": 12,
   "metadata": {},
   "outputs": [
    {
     "output_type": "execute_result",
     "data": {
      "text/plain": [
       "-\\Omega*u_1*v_2/l + \\Omega*u_2*v_1/l + \\xi_2*v_2"
      ],
      "text/latex": "$\\displaystyle - \\frac{\\Omega u_{1} v_{2}}{l} + \\frac{\\Omega u_{2} v_{1}}{l} + \\xi_{2} v_{2}$"
     },
     "metadata": {},
     "execution_count": 12
    }
   ],
   "source": [
    "du2*2"
   ]
  },
  {
   "cell_type": "code",
   "execution_count": 13,
   "metadata": {},
   "outputs": [
    {
     "output_type": "execute_result",
     "data": {
      "text/plain": [
       "-\\Omega*u_1*u_2/l - \\Omega*v_1*v_2/l - \\xi_2*u_2"
      ],
      "text/latex": "$\\displaystyle - \\frac{\\Omega u_{1} u_{2}}{l} - \\frac{\\Omega v_{1} v_{2}}{l} - \\xi_{2} u_{2}$"
     },
     "metadata": {},
     "execution_count": 13
    }
   ],
   "source": [
    "dv2*2"
   ]
  },
  {
   "source": [
    "First couple of equations yields expressions for $u_1$ and $v_1$"
   ],
   "cell_type": "markdown",
   "metadata": {}
  },
  {
   "cell_type": "code",
   "execution_count": 14,
   "metadata": {},
   "outputs": [],
   "source": [
    "U1 = a/W/xi1 - W*l/8/xi1 * (u2**2-v2**2)\n",
    "V1 = -W*l/4/xi1 * u2*v2"
   ]
  },
  {
   "cell_type": "code",
   "execution_count": 25,
   "metadata": {},
   "outputs": [
    {
     "output_type": "execute_result",
     "data": {
      "text/plain": [
       "-\\Omega*l*(u_2**2 - v_2**2)/(8*\\xi_1) + a/(\\Omega*\\xi_1)"
      ],
      "text/latex": "$\\displaystyle - \\frac{\\Omega l \\left(u_{2}^{2} - v_{2}^{2}\\right)}{8 \\xi_{1}} + \\frac{a}{\\Omega \\xi_{1}}$"
     },
     "metadata": {},
     "execution_count": 25
    }
   ],
   "source": [
    "U1"
   ]
  },
  {
   "cell_type": "code",
   "execution_count": 26,
   "metadata": {},
   "outputs": [
    {
     "output_type": "execute_result",
     "data": {
      "text/plain": [
       "-\\Omega*l*u_2*v_2/(4*\\xi_1)"
      ],
      "text/latex": "$\\displaystyle - \\frac{\\Omega l u_{2} v_{2}}{4 \\xi_{1}}$"
     },
     "metadata": {},
     "execution_count": 26
    }
   ],
   "source": [
    "V1"
   ]
  },
  {
   "source": [
    "Substituting them into the econd couple of equation gives the system of equations for $u_2^2$ and $v_2^2$ which has a trivial solution $u_2=v_2=0$ and nontrivial."
   ],
   "cell_type": "markdown",
   "metadata": {}
  },
  {
   "cell_type": "code",
   "execution_count": 22,
   "metadata": {},
   "outputs": [],
   "source": [
    "eq1 = ((-W/l*(U1*v2-V1*u2) + xi2*v2)/v2).expand()\n",
    "eq2 = (( W/l*(U1*u2+V1*v2) + xi2*u2)/u2).expand()"
   ]
  },
  {
   "source": [
    "where "
   ],
   "cell_type": "markdown",
   "metadata": {}
  },
  {
   "cell_type": "code",
   "execution_count": 23,
   "metadata": {},
   "outputs": [
    {
     "output_type": "execute_result",
     "data": {
      "text/plain": [
       "-\\Omega**2*u_2**2/(8*\\xi_1) - \\Omega**2*v_2**2/(8*\\xi_1) + \\xi_2 - a/(\\xi_1*l)"
      ],
      "text/latex": "$\\displaystyle - \\frac{\\Omega^{2} u_{2}^{2}}{8 \\xi_{1}} - \\frac{\\Omega^{2} v_{2}^{2}}{8 \\xi_{1}} + \\xi_{2} - \\frac{a}{\\xi_{1} l}$"
     },
     "metadata": {},
     "execution_count": 23
    }
   ],
   "source": [
    "eq1"
   ]
  },
  {
   "cell_type": "code",
   "execution_count": 24,
   "metadata": {},
   "outputs": [
    {
     "output_type": "execute_result",
     "data": {
      "text/plain": [
       "-\\Omega**2*u_2**2/(8*\\xi_1) - \\Omega**2*v_2**2/(8*\\xi_1) + \\xi_2 + a/(\\xi_1*l)"
      ],
      "text/latex": "$\\displaystyle - \\frac{\\Omega^{2} u_{2}^{2}}{8 \\xi_{1}} - \\frac{\\Omega^{2} v_{2}^{2}}{8 \\xi_{1}} + \\xi_{2} + \\frac{a}{\\xi_{1} l}$"
     },
     "metadata": {},
     "execution_count": 24
    }
   ],
   "source": [
    "eq2"
   ]
  },
  {
   "cell_type": "code",
   "execution_count": null,
   "metadata": {},
   "outputs": [],
   "source": []
  }
 ]
}