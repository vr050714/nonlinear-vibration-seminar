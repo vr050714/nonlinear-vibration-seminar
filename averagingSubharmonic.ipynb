{
 "metadata": {
  "language_info": {
   "codemirror_mode": {
    "name": "ipython",
    "version": 3
   },
   "file_extension": ".py",
   "mimetype": "text/x-python",
   "name": "python",
   "nbconvert_exporter": "python",
   "pygments_lexer": "ipython3",
   "version": "3.9.4"
  },
  "orig_nbformat": 2,
  "kernelspec": {
   "name": "pythonjvsc74a57bd0029e6aad1ff8cb3d45bc1be2fd738f58b8646c513dd680732ee28823f0a05190",
   "display_name": "Python 3.9.4  ('venv': venv)"
  },
  "metadata": {
   "interpreter": {
    "hash": "029e6aad1ff8cb3d45bc1be2fd738f58b8646c513dd680732ee28823f0a05190"
   }
  }
 },
 "nbformat": 4,
 "nbformat_minor": 2,
 "cells": [
  {
   "cell_type": "code",
   "execution_count": 4,
   "metadata": {},
   "outputs": [],
   "source": [
    "import sympy as sp"
   ]
  },
  {
   "cell_type": "code",
   "execution_count": 18,
   "metadata": {},
   "outputs": [],
   "source": [
    "t, W, w1, w2, l, a = sp.symbols('t, \\Omega, \\omega_1, \\omega_2, l, a')\n",
    "u1, u2, v1, v2 = sp.symbols('u_1, u_2, v_1, v_2')"
   ]
  },
  {
   "cell_type": "code",
   "execution_count": 19,
   "metadata": {},
   "outputs": [],
   "source": [
    "r  =       u1 * sp.cos(W*t) + v1 * sp.sin(W*t)\n",
    "dr = W * (-u1 * sp.sin(W*t) + v1 * sp.cos(W*t))"
   ]
  },
  {
   "cell_type": "code",
   "execution_count": 20,
   "metadata": {},
   "outputs": [],
   "source": [
    "th  =         u2 * sp.cos(W/2*t) + v2 * sp.sin(W/2*t)\n",
    "dth = W/2 * (-u2 * sp.sin(W/2*t) + v2 * sp.cos(W/2*t))"
   ]
  },
  {
   "cell_type": "code",
   "execution_count": 21,
   "metadata": {},
   "outputs": [],
   "source": [
    "xi1 = (w1**2 - W**2  ) /  W\n",
    "xi2 = (w2**2 - W**2/4) / (W/2)"
   ]
  },
  {
   "cell_type": "code",
   "execution_count": 22,
   "metadata": {},
   "outputs": [],
   "source": [
    "F1 = -xi1 * r +l/W * dth**2 + a/W *sp.cos(W*t)\n",
    "F2 = -xi2 * th - 2/l * dr * dth"
   ]
  },
  {
   "cell_type": "code",
   "execution_count": 23,
   "metadata": {},
   "outputs": [],
   "source": [
    "T = 4*sp.pi/W"
   ]
  },
  {
   "cell_type": "code",
   "execution_count": 24,
   "metadata": {},
   "outputs": [],
   "source": [
    "du1 = (sp.integrate(-sp.sin(W*t)*F1, (t, 0, T))/T).expand()\n",
    "dv1 = (sp.integrate( sp.cos(W*t)*F1, (t, 0, T))/T).expand()"
   ]
  },
  {
   "cell_type": "code",
   "execution_count": 25,
   "metadata": {},
   "outputs": [],
   "source": [
    "du2 = (sp.integrate(-sp.sin(W/2*t)*F2, (t, 0, T))/T).expand()\n",
    "dv2 = (sp.integrate( sp.cos(W/2*t)*F2, (t, 0, T))/T).expand()"
   ]
  },
  {
   "cell_type": "code",
   "execution_count": 26,
   "metadata": {},
   "outputs": [
    {
     "output_type": "execute_result",
     "data": {
      "text/plain": [
       "\\Omega*l*u_2*v_2/8 - \\Omega*v_1/2 + \\omega_1**2*v_1/(2*\\Omega)"
      ],
      "text/latex": "$\\displaystyle \\frac{\\Omega l u_{2} v_{2}}{8} - \\frac{\\Omega v_{1}}{2} + \\frac{\\omega_{1}^{2} v_{1}}{2 \\Omega}$"
     },
     "metadata": {},
     "execution_count": 26
    }
   ],
   "source": [
    "du1"
   ]
  },
  {
   "cell_type": "code",
   "execution_count": 27,
   "metadata": {},
   "outputs": [
    {
     "output_type": "execute_result",
     "data": {
      "text/plain": [
       "-\\Omega*l*u_2**2/16 + \\Omega*l*v_2**2/16 + \\Omega*u_1/2 - \\omega_1**2*u_1/(2*\\Omega) + a/(2*\\Omega)"
      ],
      "text/latex": "$\\displaystyle - \\frac{\\Omega l u_{2}^{2}}{16} + \\frac{\\Omega l v_{2}^{2}}{16} + \\frac{\\Omega u_{1}}{2} - \\frac{\\omega_{1}^{2} u_{1}}{2 \\Omega} + \\frac{a}{2 \\Omega}$"
     },
     "metadata": {},
     "execution_count": 27
    }
   ],
   "source": [
    "dv1"
   ]
  },
  {
   "cell_type": "code",
   "execution_count": 28,
   "metadata": {},
   "outputs": [
    {
     "output_type": "execute_result",
     "data": {
      "text/plain": [
       "-\\Omega**2*u_1*v_2/(4*l) + \\Omega**2*u_2*v_1/(4*l) - \\Omega*v_2/4 + \\omega_2**2*v_2/\\Omega"
      ],
      "text/latex": "$\\displaystyle - \\frac{\\Omega^{2} u_{1} v_{2}}{4 l} + \\frac{\\Omega^{2} u_{2} v_{1}}{4 l} - \\frac{\\Omega v_{2}}{4} + \\frac{\\omega_{2}^{2} v_{2}}{\\Omega}$"
     },
     "metadata": {},
     "execution_count": 28
    }
   ],
   "source": [
    "du2"
   ]
  },
  {
   "cell_type": "code",
   "execution_count": 29,
   "metadata": {},
   "outputs": [
    {
     "output_type": "execute_result",
     "data": {
      "text/plain": [
       "-\\Omega**2*u_1*u_2/(4*l) - \\Omega**2*v_1*v_2/(4*l) + \\Omega*u_2/4 - \\omega_2**2*u_2/\\Omega"
      ],
      "text/latex": "$\\displaystyle - \\frac{\\Omega^{2} u_{1} u_{2}}{4 l} - \\frac{\\Omega^{2} v_{1} v_{2}}{4 l} + \\frac{\\Omega u_{2}}{4} - \\frac{\\omega_{2}^{2} u_{2}}{\\Omega}$"
     },
     "metadata": {},
     "execution_count": 29
    }
   ],
   "source": [
    "dv2"
   ]
  },
  {
   "cell_type": "code",
   "execution_count": null,
   "metadata": {},
   "outputs": [],
   "source": []
  }
 ]
}