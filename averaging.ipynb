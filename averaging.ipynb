{
  "cells":[
    {
      "cell_type":"code",
      "source":[
        "import sympy as sp"
      ],
      "execution_count":1,
      "outputs":[
        
      ],
      "metadata":{
        
      }
    },
    {
      "cell_type":"code",
      "source":[
        "w1, w2, W, t = sp.symbols('omega1, omega2, Omega, t', real=True)\n",
        "u1, v1, u2, v2 = sp.symbols('u1, v1, u2, v2')\n",
        "du1, dv1, du2, dv2 = sp.symbols('du1, dv1, du2, dv2')"
      ],
      "execution_count":2,
      "outputs":[
        
      ],
      "metadata":{
        
      }
    },
    {
      "cell_type":"code",
      "source":[
        "r   =       u1 * sp.cos(W*t) -      v1 * sp.sin(W*t)\n",
        "dr  = -W *  u1 * sp.sin(W*t) - W *  v1 * sp.cos(W*t)\n",
        "d2r = -W * du1 * sp.sin(W*t) - W * dv1 * sp.cos(W*t) - W**2 * r"
      ],
      "execution_count":3,
      "outputs":[
        
      ],
      "metadata":{
        
      }
    },
    {
      "cell_type":"code",
      "source":[
        "s   =         u2 * sp.cos(W\/2*t) -        v2 * sp.sin(W\/2*t)\n",
        "ds  = -W\/2 *  u2 * sp.sin(W\/2*t) - W\/2 *  v2 * sp.cos(W\/2*t)\n",
        "d2s = -W\/2 * du2 * sp.sin(W\/2*t) - W\/2 * dv2 * sp.cos(W\/2*t) - W**2\/4 * r"
      ],
      "execution_count":4,
      "outputs":[
        
      ],
      "metadata":{
        
      }
    },
    {
      "cell_type":"code",
      "source":[
        "eq1l = d2r + w1**2 * r\n",
        "eq2l = d2s + w2**2 * s"
      ],
      "execution_count":5,
      "outputs":[
        
      ],
      "metadata":{
        
      }
    },
    {
      "cell_type":"code",
      "source":[
        "eq1l1 = eq1l.expand().subs(w1,1)\n",
        "eq2l1 = eq2l.expand().subs(w2,1\/2)"
      ],
      "execution_count":22,
      "outputs":[
        
      ],
      "metadata":{
        
      }
    },
    {
      "cell_type":"code",
      "source":[
        "eq1l1"
      ],
      "execution_count":23,
      "outputs":[
        {
          "data":{
            "text\/latex":[
              "$\\displaystyle - \\Omega^{2} u_{1} \\cos{\\left(\\Omega t \\right)} + \\Omega^{2} v_{1} \\sin{\\left(\\Omega t \\right)} - \\Omega du_{1} \\sin{\\left(\\Omega t \\right)} - \\Omega dv_{1} \\cos{\\left(\\Omega t \\right)} + u_{1} \\cos{\\left(\\Omega t \\right)} - v_{1} \\sin{\\left(\\Omega t \\right)}$"
            ]
          },
          "metadata":{
            
          },
          "output_type":"display_data"
        }
      ],
      "metadata":{
        
      }
    },
    {
      "cell_type":"code",
      "source":[
        "eq2l1"
      ],
      "execution_count":24,
      "outputs":[
        {
          "data":{
            "text\/latex":[
              "$\\displaystyle - \\frac{\\Omega^{2} u_{1} \\cos{\\left(\\Omega t \\right)}}{4} + \\frac{\\Omega^{2} v_{1} \\sin{\\left(\\Omega t \\right)}}{4} - \\frac{\\Omega du_{2} \\sin{\\left(\\frac{\\Omega t}{2} \\right)}}{2} - \\frac{\\Omega dv_{2} \\cos{\\left(\\frac{\\Omega t}{2} \\right)}}{2} + 0.25 u_{2} \\cos{\\left(\\frac{\\Omega t}{2} \\right)} - 0.25 v_{2} \\sin{\\left(\\frac{\\Omega t}{2} \\right)}$"
            ]
          },
          "metadata":{
            
          },
          "output_type":"display_data"
        }
      ],
      "metadata":{
        
      }
    },
    {
      "cell_type":"code",
      "source":[
        "sp.integrate((eq1l1*sp.cos(W*t)+eq2l1*sp.sin(W*t)).expand(),(t,0,2*sp.pi\/W*2))"
      ],
      "execution_count":29,
      "outputs":[
        {
          "data":{
            "text\/latex":[
              "$\\displaystyle \\begin{cases} - 2 \\pi \\Omega u_{1} + \\frac{\\pi \\Omega v_{1}}{2} - 2 \\pi dv_{1} + \\frac{2 \\pi u_{1}}{\\Omega} & \\text{for}\\: \\Omega \\neq 0 \\\\- 4 \\pi \\Omega u_{1} - 4 \\pi dv_{1} + \\frac{4 \\pi u_{1}}{\\Omega} & \\text{otherwise} \\end{cases}$"
            ]
          },
          "metadata":{
            
          },
          "output_type":"display_data"
        }
      ],
      "metadata":{
        
      }
    },
    {
      "cell_type":"code",
      "source":[
        "eq1r = ds - w2**2 - w2**2\/2 * s**2 + sp.cos(W*t)\n",
        "eq2r = -2 * dr * ds"
      ],
      "execution_count":6,
      "outputs":[
        
      ],
      "metadata":{
        
      }
    },
    {
      "cell_type":"code",
      "source":[
        "eq2r"
      ],
      "execution_count":7,
      "outputs":[
        {
          "data":{
            "text\/latex":[
              "$\\displaystyle \\left(2 \\Omega u_{1} \\sin{\\left(\\Omega t \\right)} + 2 \\Omega v_{1} \\cos{\\left(\\Omega t \\right)}\\right) \\left(- \\frac{\\Omega u_{2} \\sin{\\left(\\frac{\\Omega t}{2} \\right)}}{2} - \\frac{\\Omega v_{2} \\cos{\\left(\\frac{\\Omega t}{2} \\right)}}{2}\\right)$"
            ]
          },
          "metadata":{
            
          },
          "output_type":"display_data"
        }
      ],
      "metadata":{
        
      }
    },
    {
      "cell_type":"code",
      "source":[
        "eq1r"
      ],
      "execution_count":8,
      "outputs":[
        {
          "data":{
            "text\/latex":[
              "$\\displaystyle - \\frac{\\Omega u_{2} \\sin{\\left(\\frac{\\Omega t}{2} \\right)}}{2} - \\frac{\\Omega v_{2} \\cos{\\left(\\frac{\\Omega t}{2} \\right)}}{2} - \\frac{\\omega_{2}^{2} \\left(u_{2} \\cos{\\left(\\frac{\\Omega t}{2} \\right)} - v_{2} \\sin{\\left(\\frac{\\Omega t}{2} \\right)}\\right)^{2}}{2} - \\omega_{2}^{2} + \\cos{\\left(\\Omega t \\right)}$"
            ]
          },
          "metadata":{
            
          },
          "output_type":"display_data"
        }
      ],
      "metadata":{
        
      }
    },
    {
      "cell_type":"code",
      "source":[
        "(dr*ds).expand()"
      ],
      "execution_count":45,
      "outputs":[
        {
          "data":{
            "text\/latex":[
              "$\\displaystyle \\frac{\\Omega^{2} u_{1} u_{2} \\sin{\\left(\\frac{\\Omega t}{2} \\right)} \\sin{\\left(\\Omega t \\right)}}{2} + \\frac{\\Omega^{2} u_{1} v_{2} \\sin{\\left(\\Omega t \\right)} \\cos{\\left(\\frac{\\Omega t}{2} \\right)}}{2} + \\frac{\\Omega^{2} u_{2} v_{1} \\sin{\\left(\\frac{\\Omega t}{2} \\right)} \\cos{\\left(\\Omega t \\right)}}{2} + \\frac{\\Omega^{2} v_{1} v_{2} \\cos{\\left(\\frac{\\Omega t}{2} \\right)} \\cos{\\left(\\Omega t \\right)}}{2}$"
            ]
          },
          "metadata":{
            
          },
          "output_type":"display_data"
        }
      ],
      "metadata":{
        
      }
    },
    {
      "cell_type":"code",
      "source":[
        
      ],
      "execution_count":0,
      "outputs":[
        
      ],
      "metadata":{
        
      }
    },
    {
      "cell_type":"code",
      "source":[
        "import sympy as sp"
      ],
      "execution_count":30,
      "outputs":[
        
      ],
      "metadata":{
        
      }
    },
    {
      "cell_type":"code",
      "source":[
        "t, c1, c2 = sp.symbols('t, c1, c2', real=True)"
      ],
      "execution_count":36,
      "outputs":[
        
      ],
      "metadata":{
        
      }
    },
    {
      "cell_type":"code",
      "source":[
        "x = 1\/4 * sp.cos(t) * sp.cos(2*t) + t\/2 * sp.sin(t) + 1\/4 * sp.sin(t) * sp.sin(2*t) + c1 * sp.cos(t) + c2 * sp.sin(t)"
      ],
      "execution_count":37,
      "outputs":[
        
      ],
      "metadata":{
        
      }
    },
    {
      "cell_type":"code",
      "source":[
        "(sp.diff(x,t,t)+x).expand().simplify()"
      ],
      "execution_count":38,
      "outputs":[
        {
          "data":{
            "text\/latex":[
              "$\\displaystyle \\cos{\\left(t \\right)}$"
            ]
          },
          "metadata":{
            
          },
          "output_type":"display_data"
        }
      ],
      "metadata":{
        
      }
    },
    {
      "cell_type":"code",
      "source":[
        "(1\/4 * sp.cos(t) * sp.cos(2*t)+1\/4 * sp.sin(t) * sp.sin(2*t)).simplify()"
      ],
      "execution_count":42,
      "outputs":[
        {
          "data":{
            "text\/latex":[
              "$\\displaystyle 0.25 \\cos{\\left(t \\right)}$"
            ]
          },
          "metadata":{
            
          },
          "output_type":"display_data"
        }
      ],
      "metadata":{
        
      }
    },
    {
      "cell_type":"code",
      "source":[
        "x.simplify()"
      ],
      "execution_count":43,
      "outputs":[
        {
          "data":{
            "text\/latex":[
              "$\\displaystyle 1.0 c_{1} \\cos{\\left(t \\right)} + 1.0 c_{2} \\sin{\\left(t \\right)} + 0.5 t \\sin{\\left(t \\right)} + 0.25 \\cos{\\left(t \\right)}$"
            ]
          },
          "metadata":{
            
          },
          "output_type":"display_data"
        }
      ],
      "metadata":{
        
      }
    },
    {
      "cell_type":"code",
      "source":[
        "ex2 = t\/2 * sp.sin(t)"
      ],
      "execution_count":48,
      "outputs":[
        
      ],
      "metadata":{
        
      }
    },
    {
      "cell_type":"code",
      "source":[
        "sp.diff(ex2,t,t)+ex2"
      ],
      "execution_count":49,
      "outputs":[
        {
          "data":{
            "text\/latex":[
              "$\\displaystyle \\cos{\\left(t \\right)}$"
            ]
          },
          "metadata":{
            
          },
          "output_type":"display_data"
        }
      ],
      "metadata":{
        
      }
    },
    {
      "cell_type":"code",
      "source":[
        
      ],
      "execution_count":0,
      "outputs":[
        
      ],
      "metadata":{
        
      }
    },
    {
      "cell_type":"code",
      "source":[
        "import numpy as np\n",
        "from scipy.integrate import  odeint\n",
        "import matplotlib.pyplot as plt"
      ],
      "execution_count":2,
      "outputs":[
        
      ],
      "metadata":{
        
      }
    },
    {
      "cell_type":"code",
      "source":[
        "def eqs(z, t):\n",
        "    r, th, dr, dth = z\n",
        "    # added dumping to get finite ampl.\n",
        "    # solutiion dows not depend on ampl. of source\n",
        "    return [\n",
        "        dr,\n",
        "        dth,\n",
        "        -0.04 * dr -r -0*dth + 1\/4 * np.cos(th) + 0.002*np.cos(t),\n",
        "        -0.01 * dth - 1\/4 * np.sin(th) - 2*dr*dth\n",
        "    ]\n",
        "\n",
        "Tmax = 3000\n",
        "t = np.linspace(0,Tmax,int(20*Tmax))\n",
        "sol = odeint(eqs, [0.25,1e-6,0,0], t)\n",
        "\n",
        "plt.subplot(2,1,1)\n",
        "plt.plot(t,sol[:,0])\n",
        "plt.subplot(2,1,2)\n",
        "plt.plot(t,sol[:,1])\n",
        "plt.show()"
      ],
      "execution_count":8,
      "outputs":[
        {
          "data":{
            "image\/png":"[encoded data removed]"
          },
          "metadata":{
            "image\/png":{
              "width":0,
              "height":0
            }
          },
          "output_type":"display_data"
        }
      ],
      "metadata":{
        
      }
    },
    {
      "cell_type":"code",
      "source":[
        
      ],
      "execution_count":0,
      "outputs":[
        
      ],
      "metadata":{
        
      }
    }
  ],
  "metadata":{
    
  },
  "nbformat":4,
  "nbformat_minor":0
}