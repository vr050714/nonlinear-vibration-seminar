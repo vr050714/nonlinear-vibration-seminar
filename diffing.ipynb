{
 "cells": [
  {
   "cell_type": "code",
   "execution_count": 1,
   "id": "e2e2505f-a1c1-43af-9a62-ea525a2dfba3",
   "metadata": {},
   "outputs": [],
   "source": [
    "import sympy as sp"
   ]
  },
  {
   "cell_type": "code",
   "execution_count": 2,
   "id": "639f0077-2ce2-48c3-ae5d-e5c8e47b20c3",
   "metadata": {},
   "outputs": [],
   "source": [
    "e, t, w1, w2 = sp.symbols('e, t, w1, w2')\n",
    "x0, x1, x2 = sp.symbols('x0, x1, x2')\n",
    "d2x0, d2x1, d2x2 = sp.symbols('\\ddot{x}_0, \\ddot{x}_1, \\ddot{x}_2')"
   ]
  },
  {
   "cell_type": "code",
   "execution_count": 3,
   "id": "a5fdc937-aefb-4b0d-bba7-54fa5886a59d",
   "metadata": {},
   "outputs": [],
   "source": [
    "x = x0 + e * x1 + e**2 * x2\n",
    "d2x = d2x0 + e * d2x1 + e**2 * d2x2\n",
    "w = 1 + e * w1 + e**2 * w2"
   ]
  },
  {
   "cell_type": "code",
   "execution_count": 11,
   "id": "bd48d6a6-fc76-4526-a210-ecc5ae0ef951",
   "metadata": {},
   "outputs": [],
   "source": [
    "ex1 = (w**2 * d2x + x - e * x**3).expand()"
   ]
  },
  {
   "cell_type": "code",
   "execution_count": 12,
   "id": "e1052ca5-bc2e-4413-a9b1-e451546ff064",
   "metadata": {},
   "outputs": [
    {
     "data": {
      "text/latex": [
       "$\\displaystyle \\ddot{x}_0 + x_{0}$"
      ],
      "text/plain": [
       "\\ddot{x}_0 + x0"
      ]
     },
     "execution_count": 12,
     "metadata": {},
     "output_type": "execute_result"
    }
   ],
   "source": [
    "eq0 = ex1.subs(e,0)\n",
    "eq0"
   ]
  },
  {
   "cell_type": "code",
   "execution_count": 13,
   "id": "b04b4c71-927b-47ee-ad4f-d12dc68f690b",
   "metadata": {},
   "outputs": [
    {
     "data": {
      "text/latex": [
       "$\\displaystyle 2 \\ddot{x}_0 w_{1} + \\ddot{x}_1 - x_{0}^{3} + x_{1}$"
      ],
      "text/plain": [
       "2*\\ddot{x}_0*w1 + \\ddot{x}_1 - x0**3 + x1"
      ]
     },
     "execution_count": 13,
     "metadata": {},
     "output_type": "execute_result"
    }
   ],
   "source": [
    "eq1 = ex1.coeff(e)\n",
    "eq1"
   ]
  },
  {
   "cell_type": "code",
   "execution_count": 14,
   "id": "447b8c32-2996-4e42-889b-41319c0a6218",
   "metadata": {},
   "outputs": [
    {
     "data": {
      "text/latex": [
       "$\\displaystyle \\ddot{x}_0 w_{1}^{2} + 2 \\ddot{x}_0 w_{2} + 2 \\ddot{x}_1 w_{1} + \\ddot{x}_2 - 3 x_{0}^{2} x_{1} + x_{2}$"
      ],
      "text/plain": [
       "\\ddot{x}_0*w1**2 + 2*\\ddot{x}_0*w2 + 2*\\ddot{x}_1*w1 + \\ddot{x}_2 - 3*x0**2*x1 + x2"
      ]
     },
     "execution_count": 14,
     "metadata": {},
     "output_type": "execute_result"
    }
   ],
   "source": [
    "eq2 = ex1.coeff(e**2)\n",
    "eq2"
   ]
  },
  {
   "cell_type": "code",
   "execution_count": 15,
   "id": "31caf7ff-0db1-4d54-9573-d61181011b07",
   "metadata": {},
   "outputs": [],
   "source": [
    "import numpy as np\n",
    "from scipy.integrate import odeint"
   ]
  },
  {
   "cell_type": "code",
   "execution_count": null,
   "id": "3a31eeb8-71eb-4b71-a8b3-c4f9e796cdc6",
   "metadata": {},
   "outputs": [],
   "source": []
  }
 ],
 "metadata": {
  "kernelspec": {
   "display_name": "Python 3",
   "language": "python",
   "name": "python3"
  },
  "language_info": {
   "codemirror_mode": {
    "name": "ipython",
    "version": 3
   },
   "file_extension": ".py",
   "mimetype": "text/x-python",
   "name": "python",
   "nbconvert_exporter": "python",
   "pygments_lexer": "ipython3",
   "version": "3.9.4"
  }
 },
 "nbformat": 4,
 "nbformat_minor": 5
}
